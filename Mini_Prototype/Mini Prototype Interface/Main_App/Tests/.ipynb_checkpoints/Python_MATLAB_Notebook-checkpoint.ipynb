{
 "cells": [
  {
   "cell_type": "markdown",
   "metadata": {},
   "source": [
    "# Python - MATLAB Notebook\n",
    "## Used for testing scripts and functions"
   ]
  },
  {
   "cell_type": "code",
   "execution_count": 5,
   "metadata": {},
   "outputs": [],
   "source": [
    "import scipy.io as sio"
   ]
  },
  {
   "cell_type": "code",
   "execution_count": 2,
   "metadata": {},
   "outputs": [
    {
     "name": "stdout",
     "output_type": "stream",
     "text": [
      "F3_Trajectory.slmx          TestRequirements.slreqx\r\n",
      "F3_Trajectory.slx           Untitled.ipynb\r\n",
      "F3_Trajectory.slx.original  opensim_data.mat\r\n",
      "F3_Trajectory.slxc          \u001b[1m\u001b[36mslprj\u001b[m\u001b[m/\r\n",
      "FirstTest.mldatx\r\n"
     ]
    }
   ],
   "source": [
    "ls"
   ]
  },
  {
   "cell_type": "code",
   "execution_count": 37,
   "metadata": {
    "scrolled": true
   },
   "outputs": [
    {
     "data": {
      "text/plain": [
       "array([[array([[ 32.59641416],\n",
       "       [ 31.85580597],\n",
       "       [ 31.26673615],\n",
       "       [ 30.85954698],\n",
       "       [ 30.64855969],\n",
       "       [ 30.63896929],\n",
       "       [ 30.83187239],\n",
       "       [ 31.22599304],\n",
       "       [ 31.82272268],\n",
       "       [ 32.63426397],\n",
       "       [ 33.67782595],\n",
       "       [ 34.96801163],\n",
       "       [ 36.52294162],\n",
       "       [ 38.36041762],\n",
       "       [ 40.49460651],\n",
       "       [ 43.25150976],\n",
       "       [ 48.01536567],\n",
       "       [ 54.54009696],\n",
       "       [ 61.85894992],\n",
       "       [ 70.14559485],\n",
       "       [ 78.86934877],\n",
       "       [ 87.37225241],\n",
       "       [ 95.14151151],\n",
       "       [101.95299684],\n",
       "       [108.18575958],\n",
       "       [114.09382911],\n",
       "       [119.82037338],\n",
       "       [125.41007013],\n",
       "       [130.63084972],\n",
       "       [135.49986278],\n",
       "       [140.09256595],\n",
       "       [144.48093879],\n",
       "       [148.73231848],\n",
       "       [152.90648006],\n",
       "       [157.07026766],\n",
       "       [161.24188834],\n",
       "       [165.41641043],\n",
       "       [169.58484711],\n",
       "       [173.70510796],\n",
       "       [177.78087354],\n",
       "       [181.67882718],\n",
       "       [185.44848062],\n",
       "       [189.28123697],\n",
       "       [193.15922979],\n",
       "       [197.05785188],\n",
       "       [200.95990697],\n",
       "       [204.8414268 ],\n",
       "       [208.67795606],\n",
       "       [212.43994583],\n",
       "       [216.17060923],\n",
       "       [219.98610652],\n",
       "       [223.79769024],\n",
       "       [227.46928322],\n",
       "       [230.79075462],\n",
       "       [233.51569886],\n",
       "       [235.76373817],\n",
       "       [238.14002533],\n",
       "       [241.13694679],\n",
       "       [245.343619  ],\n",
       "       [251.77865205],\n",
       "       [258.74497469],\n",
       "       [265.83762909],\n",
       "       [273.12779816],\n",
       "       [280.50659453],\n",
       "       [287.79014313],\n",
       "       [294.99381742],\n",
       "       [302.1543004 ],\n",
       "       [309.23427216],\n",
       "       [316.19166285],\n",
       "       [323.03154342],\n",
       "       [329.76314433],\n",
       "       [336.38228829],\n",
       "       [342.83172935],\n",
       "       [349.04402769],\n",
       "       [354.93650222],\n",
       "       [360.44068589],\n",
       "       [365.47265365],\n",
       "       [369.92471221],\n",
       "       [373.69122421],\n",
       "       [376.66899775],\n",
       "       [378.76884059],\n",
       "       [379.92641636],\n",
       "       [380.10160103],\n",
       "       [379.24536185],\n",
       "       [377.28437122],\n",
       "       [374.21688566],\n",
       "       [370.10058615],\n",
       "       [365.01477355]])]], dtype=object)"
      ]
     },
     "execution_count": 37,
     "metadata": {},
     "output_type": "execute_result"
    }
   ],
   "source": [
    "data = sio.loadmat(\"opensim_data.mat\")\n",
    "data[\"matlabStruct_Data\"][\"interface_r_on_socket_r_in_ground_fx\"]  #[0][0][0][0]"
   ]
  },
  {
   "cell_type": "code",
   "execution_count": null,
   "metadata": {},
   "outputs": [],
   "source": []
  }
 ],
 "metadata": {
  "kernelspec": {
   "display_name": "Python 3",
   "language": "python",
   "name": "python3"
  },
  "language_info": {
   "codemirror_mode": {
    "name": "ipython",
    "version": 3
   },
   "file_extension": ".py",
   "mimetype": "text/x-python",
   "name": "python",
   "nbconvert_exporter": "python",
   "pygments_lexer": "ipython3",
   "version": "3.9.0"
  }
 },
 "nbformat": 4,
 "nbformat_minor": 4
}
